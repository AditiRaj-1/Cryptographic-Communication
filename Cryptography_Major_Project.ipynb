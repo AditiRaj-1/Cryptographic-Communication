    {
      "cell_type": "markdown",
      "source": [
        "vigenere Algo\n"
      ],
      "metadata": {
        "id": "LcwSnjm26-XJ"
      }
    },
    {
      "cell_type": "code",
      "source": [
        "import hashlib\n",
        "def hash_data(data):\n",
        "    #hash object\n",
        "    sha256 = hashlib.sha256()\n",
        "    # Update with the data\n",
        "    sha256.update(data.encode('utf-8'))\n",
        "    # hexadecimal representation\n",
        "    return sha256.hexdigest()\n"
      ],
      "metadata": {
        "id": "hChxifg9JM8C"
      },
      "execution_count": 1,
      "outputs": []
    },
    {
      "cell_type": "code",
      "metadata": {
        "id": "ejAMU1t7Z6WH",
        "colab": {
          "base_uri": "https://localhost:8080/"
        },
        "outputId": "a5c1d6ef-f468-445a-9392-3f0f2dab3af9"
      },
      "source": [
        "def generateKey(string, key):\n",
        "\tkey = list(key)\n",
        "\tif len(string) == len(key):\n",
        "\t\tgenerateKey.key = key\n",
        "\t\treturn(key)\n",
        "\telse:\n",
        "\t\tfor i in range(len(string) -\n",
        "\t\t\t\t\tlen(key)):\n",
        "\t\t\tkey.append(key[i % len(key)])\n",
        "\tgenerateKey.key =  \"\" . join(key)\n",
        "\treturn(\"\" . join(key))\n",
        "\n",
        "\n",
        "\n",
        "def cipherText(string, key):\n",
        "\tcipher_text = []\n",
        "\n",
        "\tfor i in range(len(string)):\n",
        "\t\tx = (ord(string[i]) + ord(key[i])) % 26\n",
        "\t\tx += ord('A')\n",
        "\t\tcipher_text.append(chr(x))\n",
        "\tcipherText.cipher = \"\" . join(cipher_text)\n",
        "\tcipherText.hashed_data = hash_data(cipherText.cipher)\n",
        "\n",
        "\n",
        "\treturn(\"\" . join(cipher_text))\n",
        "\n",
        "\n",
        "\n",
        "def originalText(cipher_text, key):\n",
        "\torig_text = []\n",
        "\tfor i in range(len(cipher_text)):\n",
        "\t\tx = (ord(cipher_text[i]) -\n",
        "\t\t\tord(key[i]) + 26) % 26\n",
        "\t\tx += ord('A')\n",
        "\t\torig_text.append(chr(x))\n",
        "\treturn(\"\" . join(orig_text))\n",
        "\n",
        "\n",
        "def main():\n",
        "\tstring = input(\"Enter a message: \")\n",
        "\tkeyword = \"DELHI\"\n",
        "\tkey = generateKey(string, keyword)\n",
        "\n",
        "\n",
        "\tcipher_text = cipherText(string,key)\n",
        "\tprint(\"Ciphertext :\", cipher_text)\n",
        "\t# print(\"Original/Decrypted Text :\",\n",
        "\t# \toriginalText(cipher_text, key))\n",
        "\n",
        "\n",
        "# Driver code\n",
        "if __name__ == \"__main__\":\n",
        "\tmain()\n",
        "\n",
        "\n"
      ],
      "execution_count": null,
      "outputs": [
        {
          "output_type": "stream",
          "name": "stdout",
          "text": [
            "Enter a message: CYBERSECURITY\n",
            "Ciphertext : FCMLZVINBZLXJ\n"
          ]
        }
      ]
    },
    {
      "cell_type": "markdown",
      "source": [
        "Polybius algo - to encode\n"
      ],
      "metadata": {
        "id": "O9dAa8Bc7AKn"
      }
    },
    {
      "cell_type": "code",
      "metadata": {
        "id": "EOiDLNKppy29",
        "colab": {
          "base_uri": "https://localhost:8080/"
        },
        "outputId": "28eb7996-f7f9-4986-85c4-663160433d25"
      },
      "source": [
        "  from string import ascii_uppercase as alphabet\n",
        "\n",
        "\n",
        "def codes_table(char):\n",
        "    table = {\n",
        "        \"A\": 11, \"B\": 21, \"C\": 31, \"D\": 41, \"E\": 51,\n",
        "        \"F\": 12, \"G\": 22, \"H\": 32, \"I\": 42, \"K\": 52,\n",
        "        \"L\": 13, \"M\": 23, \"N\": 33, \"O\": 43, \"P\": 53,\n",
        "        \"Q\": 14, \"R\": 24, \"S\": 34, \"T\": 44, \"U\": 54,\n",
        "        \"V\": 15, \"W\": 25, \"X\": 35, \"Y\": 45, \"Z\": 55, \"J\": 0,\n",
        "\n",
        "        11: \"A\", 21: \"B\", 31: \"C\", 41: \"D\", 51: \"E\",\n",
        "        12: \"F\", 22: \"G\", 32: \"H\", 42: \"I\", 52: \"K\",\n",
        "        13: \"L\", 23: \"M\", 33: \"N\", 43: \"O\", 53: \"P\",\n",
        "        14: \"Q\", 24: \"R\", 34: \"S\", 44: \"T\", 54: \"U\",\n",
        "        15: \"V\", 25: \"W\", 35: \"X\", 45: \"Y\", 55: \"Z\", 0: \"J\"\n",
        "    }\n",
        "\n",
        "    return table[char]\n",
        "\n",
        "\n",
        "def encoding(text):\n",
        "    text, finished_text = text.upper(), \"\"\n",
        "    for symbol in text:\n",
        "        if symbol in alphabet:\n",
        "            finished_text += str(codes_table(symbol)) + \" \"\n",
        "\n",
        "    return finished_text\n",
        "\n",
        "\n",
        "# def decoding(text):\n",
        "#     text, finished_text = text.upper(), \"\"\n",
        "#     for symbol in list(map(int, text.split())):\n",
        "#         finished_text += codes_table(symbol)\n",
        "\n",
        "#     return finished_text\n",
        "\n",
        "\n",
        "def assembly():\n",
        "    text = cipherText.cipher\n",
        "    finished_text = encoding(text)\n",
        "\n",
        "    return finished_text\n",
        "\n",
        "\n",
        "def main1():\n",
        "    print(\"<<< Encoding mode >>>\\n\")\n",
        "    finished_text = assembly()\n",
        "\n",
        "    print(\"The result of encoding:\")\n",
        "    print(finished_text)\n",
        "\n",
        "\n",
        "if __name__ == '__main__':\n",
        "    main1()"
      ],
      "execution_count": null,
      "outputs": [
        {
          "output_type": "stream",
          "name": "stdout",
          "text": [
            "<<< Encoding mode >>>\n",
            "\n",
            "The result of encoding:\n",
            "12 31 23 13 55 15 42 33 21 55 13 35 0 \n"
          ]
        }
      ]
    },
    {
      "cell_type": "code",
      "source": [],
      "metadata": {
        "id": "qc2O3JR3L7Oi"
      },
      "execution_count": null,
      "outputs": []
    },
    {
      "cell_type": "code",
      "source": [
        "\n",
        "print(\"Hashed Data: \",cipherText.hashed_data)"
      ],
      "metadata": {
        "colab": {
          "base_uri": "https://localhost:8080/"
        },
        "id": "fVADSxXrL9Or",
        "outputId": "ee88f5de-41a6-401e-e098-9b9bd4830c71"
      },
      "execution_count": null,
      "outputs": [
        {
          "output_type": "stream",
          "name": "stdout",
          "text": [
            "Hashed Data:  764d4bb4558f5f43d1a1e36f24fd12394a643929a640513d22c4eaa95ef272ab\n"
          ]
        }
      ]
    },
    {
      "cell_type": "code",
      "source": [],
      "metadata": {
        "id": "ThJE9qgeJYwh"
      },
      "execution_count": null,
      "outputs": []
    },
    {
      "cell_type": "markdown",
      "source": [
        "Polybius Algo - to decode and decrypt"
      ],
      "metadata": {
        "id": "L299HJx7Apji"
      }
    },
    {
      "cell_type": "code",
      "metadata": {
        "id": "0HZFWWD2p_lN",
        "colab": {
          "base_uri": "https://localhost:8080/"
        },
        "outputId": "e954144c-abea-4fc9-8183-cca9989a8a75"
      },
      "source": [
        "# def encoding(text):\n",
        "#     text, finished_text = text.upper(), \"\"\n",
        "#     for symbol in text:\n",
        "#         if symbol in alphabet:\n",
        "#             finished_text += str(codes_table(symbol)) + \" \"\n",
        "\n",
        "#     return finished_text\n",
        "\n",
        "\n",
        "def decoding(text):\n",
        "    text, finished_text = text.upper(), \"\"\n",
        "    for symbol in list(map(int, text.split())):\n",
        "        finished_text += codes_table(symbol)\n",
        "    decoding.finished_text = finished_text\n",
        "\n",
        "    decoding.hashed_data = hash_data(finished_text)\n",
        "    return finished_text\n",
        "\n",
        "\n",
        "# def assembly(mode):\n",
        "#     text = str(input(\"[+] Enter your text - \"))\n",
        "\n",
        "#     if mode == 0:\n",
        "#         finished_text = encoding(text)\n",
        "#     else:\n",
        "    #     finished_text = decoding(text)\n",
        "\n",
        "    # print(\"\\n »» The result of encoding . ««\")\n",
        "    # print(finished_text)\n",
        "\n",
        "\n",
        "def main():\n",
        "\n",
        "    print(\" <<< Decoding mode >>>\")\n",
        "\n",
        "    text = input(\"Enter a input to decode: \")\n",
        "\n",
        "    # text = assembly.finished_text\n",
        "\n",
        "\n",
        "    finished_text = decoding(text)\n",
        "\n",
        "    print(\"\\nThe result of decoding.\")\n",
        "    print(finished_text)\n",
        "\n",
        "\n",
        "    print(\"\\nOriginal/Decrypted Text :\")\n",
        "    print(originalText(finished_text, generateKey.key))\n",
        "\n",
        "\n",
        "if __name__ == '__main__':\n",
        "    main()"
      ],
      "execution_count": null,
      "outputs": [
        {
          "output_type": "stream",
          "name": "stdout",
          "text": [
            " <<< Decoding mode >>>\n",
            "Enter a input to decode: 12 31 23 13 55 15 42 33 21 55 13 35 0 \n",
            "\n",
            "The result of decoding.\n",
            "FCMLZVINBZLXJ\n",
            "\n",
            "Original/Decrypted Text :\n",
            "CYBERSECURITY\n"
          ]
        }
      ]
    },
    {
      "cell_type": "markdown",
      "source": [
        "Verifying / Integrity"
      ],
      "metadata": {
        "id": "sV7Wo2XRNE-j"
      }
    },
    {
      "cell_type": "code",
      "source": [
        "print(\"Hashed Data: \",decoding.hashed_data)"
      ],
      "metadata": {
        "colab": {
          "base_uri": "https://localhost:8080/"
        },
        "id": "G0FBqYDZTjEA",
        "outputId": "81c7a116-5ce6-4676-a629-7c989f5252ff"
      },
      "execution_count": null,
      "outputs": [
        {
          "output_type": "stream",
          "name": "stdout",
          "text": [
            "Hashed Data:  764d4bb4558f5f43d1a1e36f24fd12394a643929a640513d22c4eaa95ef272ab\n"
          ]
        }
      ]
    },
    {
      "cell_type": "code",
      "source": [
        "def verify():\n",
        "\n",
        "  if (decoding.hashed_data == cipherText.hashed_data):\n",
        "    print(\"Data Verified\")\n",
        "\n",
        "  else:\n",
        "    print(\"Data corrupted\")\n",
        "\n",
        "def main():\n",
        "  verify()\n",
        "\n",
        "if __name__ == '__main__':\n",
        "    main()"
      ],
      "metadata": {
        "id": "6mHgPMTGziY9",
        "colab": {
          "base_uri": "https://localhost:8080/"
        },
        "outputId": "4c5d0212-5ff5-4576-a818-9074353b436b"
      },
      "execution_count": null,
      "outputs": [
        {
          "output_type": "stream",
          "name": "stdout",
          "text": [
            "Data Verified\n"
          ]
        }
      ]
    },
    {
      "cell_type": "code",
      "source": [],
      "metadata": {
        "id": "hn-555EMND_W"
      },
      "execution_count": null,
      "outputs": []
    },
    {
      "cell_type": "code",
      "metadata": {
        "id": "f-P0KTqqplsZ"
      },
      "source": [],
      "execution_count": null,
      "outputs": []
    },
    {
      "cell_type": "code",
      "source": [],
      "metadata": {
        "id": "cLBIgMMFA1za"
      },
      "execution_count": null,
      "outputs": []
    },
    {
      "cell_type": "code",
      "source": [],
      "metadata": {
        "id": "5xqReWyqA14L"
      },
      "execution_count": null,
      "outputs": []
    }
  ]
}
